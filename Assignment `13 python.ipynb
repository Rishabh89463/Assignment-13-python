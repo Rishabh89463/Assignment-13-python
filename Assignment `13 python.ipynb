{
 "cells": [
  {
   "cell_type": "code",
   "execution_count": 1,
   "id": "2b94bebe-cc63-46b7-ab0f-a18ed8b2723e",
   "metadata": {},
   "outputs": [],
   "source": [
    "# 1. What advantages do Excel spreadsheets have over CSV spreadsheets?"
   ]
  },
  {
   "cell_type": "code",
   "execution_count": 2,
   "id": "6d6113da-b6c1-48e5-b29b-c4cdb7fbbd24",
   "metadata": {},
   "outputs": [],
   "source": [
    "\n",
    "# Excel spreadsheets have several advantages over CSV files:\n",
    "\n",
    "# Formatting: Rich text formatting options.\n",
    "# Formulas: Advanced calculations and functions.\n",
    "# Charts: Built-in charting and graphing tools.\n",
    "# Multiple Sheets: Support for multiple sheets in one file.\n",
    "# Data Validation: Dropdown lists and data integrity checks.\n",
    "# Macros: Automation with macros and VBA.\n",
    "# Integration: Better integration with other Office tools and collaboration features."
   ]
  },
  {
   "cell_type": "code",
   "execution_count": 3,
   "id": "f8c08004-f05c-40c1-b812-e6e02e96cc36",
   "metadata": {},
   "outputs": [],
   "source": [
    "# 2.What do you pass to csv.reader() and csv.writer() to create reader and writer objects?"
   ]
  },
  {
   "cell_type": "code",
   "execution_count": 5,
   "id": "bcf59971-df19-4ed4-9a9b-b71d403bee03",
   "metadata": {},
   "outputs": [],
   "source": [
    "\n",
    "# # To create csv.reader and csv.writer objects in Python, you pass file objects to them. Here’s how it works:\n",
    "\n",
    "# # csv.reader(): Pass a file object opened in text mode (e.g., 'r' for reading).\n",
    "\n",
    "\n",
    "# import csv\n",
    "\n",
    "# with open('data.csv', 'r') as file:\n",
    "#     reader = csv.reader(file)\n",
    "#     for row in reader:\n",
    "#         print(row)\n",
    "# # csv.writer(): Pass a file object opened in text mode with write permission (e.g., 'w' for writing).\n",
    "\n",
    "# import csv\n",
    "\n",
    "# with open('data.csv', 'w', newline='') as file:\n",
    "#     writer = csv.writer(file)\n",
    "#     writer.writerow(['Name', 'Age', 'City'])\n",
    "#     writer.writerow(['Alice', '30', 'New York'])"
   ]
  },
  {
   "cell_type": "code",
   "execution_count": 6,
   "id": "08b9415d-b35b-4147-8885-193f954eb6eb",
   "metadata": {},
   "outputs": [],
   "source": [
    "# For csv.reader and csv.writer objects, file objects need to be opened in specific modes:\n",
    "\n",
    "# csv.reader: Open the file object in text read mode ('r').\n",
    "\n",
    "# csv.writer: Open the file object in text write mode ('w'), and it’s often recommended to include newline='' to prevent extra blank lines.\n",
    "\n"
   ]
  },
  {
   "cell_type": "code",
   "execution_count": 7,
   "id": "08b6d45e-daa0-4725-883b-7f48b6f225dd",
   "metadata": {},
   "outputs": [],
   "source": [
    "# 4. What method takes a list argument and writes it to a CSV file?"
   ]
  },
  {
   "cell_type": "code",
   "execution_count": 8,
   "id": "8fd1bfef-6371-446a-8d99-d79a9ca1e1a7",
   "metadata": {},
   "outputs": [],
   "source": [
    "\n",
    "# The writerow() method of the csv.writer object takes a list (or any iterable) as an argument and writes it as a single row to a CSV file.\n",
    "\n",
    "import csv\n",
    "\n",
    "# Open a CSV file in write mode\n",
    "with open('data.csv', 'w', newline='') as file:\n",
    "    writer = csv.writer(file)\n",
    "    \n",
    "    # Write a list as a row to the CSV file\n",
    "    writer.writerow(['Name', 'Age', 'City'])\n",
    "    writer.writerow(['Alice', '30', 'New York'])\n"
   ]
  },
  {
   "cell_type": "code",
   "execution_count": 9,
   "id": "2d9f30cd-7194-488e-a214-79087c4d869a",
   "metadata": {},
   "outputs": [],
   "source": [
    "# 5. What do the keyword arguments delimiter and line terminator do?"
   ]
  },
  {
   "cell_type": "code",
   "execution_count": 10,
   "id": "d76196a2-6935-4949-8924-c08d433bff45",
   "metadata": {},
   "outputs": [],
   "source": [
    "# In the csv module, the keyword arguments delimiter and lineterminator are used to customize how CSV files are read from or written to:\n",
    "\n",
    "# delimiter: Specifies the character used to separate fields in the CSV file. The default is a comma (,), but it can be set to any other character, such as a tab (\\t) or a semicolon (;)\n",
    "\n",
    "# lineterminator: Defines the character or string that terminates lines in the CSV file. The default is a newline character ('\\n'). You can specify a different line terminator if needed."
   ]
  },
  {
   "cell_type": "code",
   "execution_count": 11,
   "id": "c45c892b-ce87-4bd5-be02-818f40aea0ec",
   "metadata": {},
   "outputs": [],
   "source": [
    "# 6. What function takes a string of JSON data and returns a Python data structure?"
   ]
  },
  {
   "cell_type": "code",
   "execution_count": 13,
   "id": "1aa996a1-9d8d-4e33-9c34-f29cf64540df",
   "metadata": {},
   "outputs": [
    {
     "name": "stdout",
     "output_type": "stream",
     "text": [
      "{'name': 'Alice', 'age': 30, 'city': 'New York'}\n"
     ]
    }
   ],
   "source": [
    "# The json.loads() function is used to take a string of JSON data and return a Python data structure.\n",
    "\n",
    "# Here’s how you use it:\n",
    "    \n",
    "import json\n",
    "\n",
    "# JSON data as a string\n",
    "json_data = '{\"name\": \"Alice\", \"age\": 30, \"city\": \"New York\"}'\n",
    "\n",
    "# Convert JSON string to Python data structure (dict)\n",
    "data = json.loads(json_data)\n",
    "\n",
    "print(data)\n",
    "# Output: {'name': 'Alice', 'age': 30, 'city': 'New York'}\n"
   ]
  },
  {
   "cell_type": "code",
   "execution_count": 14,
   "id": "45be7a6f-1cab-459d-a807-1e6e1dab4b71",
   "metadata": {},
   "outputs": [],
   "source": [
    "# 7. What function takes a Python data structure and returns a string of JSON data?"
   ]
  },
  {
   "cell_type": "code",
   "execution_count": 15,
   "id": "a4328e66-c994-44a9-810c-9687060c122f",
   "metadata": {},
   "outputs": [
    {
     "name": "stdout",
     "output_type": "stream",
     "text": [
      "{\"name\": \"Alice\", \"age\": 30, \"city\": \"New York\"}\n"
     ]
    }
   ],
   "source": [
    "# The json.dumps() function is used to take a Python data structure and return a string of JSON data.\n",
    "\n",
    "# Here’s how you use it:\n",
    "\n",
    "import json\n",
    "\n",
    "# Python data structure (dict)\n",
    "data = {'name': 'Alice', 'age': 30, 'city': 'New York'}\n",
    "\n",
    "# Convert Python data structure to JSON string\n",
    "json_data = json.dumps(data)\n",
    "\n",
    "print(json_data)\n",
    "# Output: {\"name\": \"Alice\", \"age\": 30, \"city\": \"New York\"}\n"
   ]
  },
  {
   "cell_type": "code",
   "execution_count": null,
   "id": "5638559c-f292-40ec-a644-905479ad9ddf",
   "metadata": {},
   "outputs": [],
   "source": []
  }
 ],
 "metadata": {
  "kernelspec": {
   "display_name": "Python 3 (ipykernel)",
   "language": "python",
   "name": "python3"
  },
  "language_info": {
   "codemirror_mode": {
    "name": "ipython",
    "version": 3
   },
   "file_extension": ".py",
   "mimetype": "text/x-python",
   "name": "python",
   "nbconvert_exporter": "python",
   "pygments_lexer": "ipython3",
   "version": "3.10.8"
  }
 },
 "nbformat": 4,
 "nbformat_minor": 5
}
